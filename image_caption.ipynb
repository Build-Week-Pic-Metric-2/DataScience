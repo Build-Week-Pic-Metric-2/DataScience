{
 "cells": [
  {
   "cell_type": "code",
   "execution_count": 1,
   "metadata": {},
   "outputs": [
    {
     "name": "stderr",
     "output_type": "stream",
     "text": [
      "Using TensorFlow backend.\n"
     ]
    }
   ],
   "source": [
    "import numpy as np\n",
    "from PIL import Image\n",
    "from IPython.display import display\n",
    "from keras.models import load_model\n",
    "from keras.preprocessing.image import load_img\n",
    "from keras.preprocessing.image import img_to_array\n",
    "from keras.applications.vgg16 import preprocess_input\n",
    "from keras.applications.vgg16 import decode_predictions\n",
    "from keras.applications import ResNet50\n",
    "from keras.applications import InceptionV3\n",
    "from keras.applications import Xception # TensorFlow ONLY\n",
    "from keras.applications import VGG16\n",
    "from keras.applications import VGG19"
   ]
  },
  {
   "cell_type": "code",
   "execution_count": 2,
   "metadata": {},
   "outputs": [],
   "source": [
    "MODELS = {\n",
    "\"vgg16\": VGG16,\n",
    "\"vgg19\": VGG19,\n",
    "\"inception\": InceptionV3,\n",
    "\"xception\": Xception, # TensorFlow ONLY\n",
    "\"resnet\": ResNet50\n",
    "}"
   ]
  },
  {
   "cell_type": "code",
   "execution_count": 3,
   "metadata": {},
   "outputs": [],
   "source": [
    "import os\n",
    "files = os.listdir('/home/ec2-user/SageMaker/DataScience')"
   ]
  },
  {
   "cell_type": "code",
   "execution_count": 4,
   "metadata": {},
   "outputs": [],
   "source": [
    "def get_objects(modelname,file,targetsize=(224, 224)):\n",
    "    image = load_img(file, target_size=targetsize)\n",
    "    # convert the image pixels to a numpy array\n",
    "    image = img_to_array(image)\n",
    "    # prepare the image for the model\n",
    "    image = preprocess_input(image)\n",
    "    # predict the probability across all output classes\n",
    "    yhat = modelname.predict(image)\n",
    "    # convert the probabilities to class labels\n",
    "    label = decode_predictions(yhat)\n",
    "    # retrieve the most likely result, e.g. highest probability\n",
    "    #label = label[0][0]\n",
    "    # print the classification\n",
    "    return label\n"
   ]
  },
  {
   "cell_type": "code",
   "execution_count": null,
   "metadata": {},
   "outputs": [
    {
     "name": "stdout",
     "output_type": "stream",
     "text": [
      "Model running is : vgg16\n",
      "file image: download.png\n",
      "file image: bikini.png\n",
      "file image: vase.png\n",
      "file image: giraffe.png\n",
      "file image: horses.png\n",
      "file image: zebra.png\n",
      "Downloading data from https://github.com/fchollet/deep-learning-models/releases/download/v0.1/vgg19_weights_tf_dim_ordering_tf_kernels.h5\n",
      "574717952/574710816 [==============================] - 70s 0us/step\n",
      "Model running is : vgg19\n",
      "file image: download.png\n",
      "file image: bikini.png\n",
      "file image: vase.png\n",
      "file image: giraffe.png\n",
      "file image: horses.png\n",
      "file image: zebra.png\n"
     ]
    },
    {
     "name": "stderr",
     "output_type": "stream",
     "text": [
      "W1118 19:20:07.841081 140568039925568 deprecation_wrapper.py:119] From /home/ec2-user/anaconda3/envs/tensorflow_p36/lib/python3.6/site-packages/keras/backend/tensorflow_backend.py:1834: The name tf.nn.fused_batch_norm is deprecated. Please use tf.compat.v1.nn.fused_batch_norm instead.\n",
      "\n",
      "W1118 19:20:08.746640 140568039925568 deprecation_wrapper.py:119] From /home/ec2-user/anaconda3/envs/tensorflow_p36/lib/python3.6/site-packages/keras/backend/tensorflow_backend.py:3980: The name tf.nn.avg_pool is deprecated. Please use tf.nn.avg_pool2d instead.\n",
      "\n"
     ]
    },
    {
     "name": "stdout",
     "output_type": "stream",
     "text": [
      "Model running is : inception\n",
      "file image: download.png\n",
      "(299, 299)\n",
      "file image: bikini.png\n",
      "(299, 299)\n",
      "file image: vase.png\n",
      "(299, 299)\n",
      "file image: giraffe.png\n",
      "(299, 299)\n",
      "file image: horses.png\n",
      "(299, 299)\n",
      "file image: zebra.png\n",
      "(299, 299)\n",
      "Downloading data from https://github.com/fchollet/deep-learning-models/releases/download/v0.4/xception_weights_tf_dim_ordering_tf_kernels.h5\n",
      "91889664/91884032 [==============================] - 12s 0us/step\n"
     ]
    }
   ],
   "source": [
    "for name in MODELS:\n",
    "    model = MODELS[name](weights='imagenet')\n",
    "    print('Model running is :',name)\n",
    "    for file in files:\n",
    "        if (file[-3:] == 'png'):\n",
    "            print(\"file image:\",file)\n",
    "            if (name in ['inception','xception']):\n",
    "                targetsize = (299, 299)\n",
    "                print(targetsize)\n",
    "            else:\n",
    "                targetsize = (224, 224)\n",
    "            print(get_objects(model,file,targetsize))"
   ]
  },
  {
   "cell_type": "code",
   "execution_count": null,
   "metadata": {},
   "outputs": [],
   "source": []
  },
  {
   "cell_type": "code",
   "execution_count": null,
   "metadata": {},
   "outputs": [],
   "source": [
    "files = os.listdir('/home/ec2-user/SageMaker/DataScience')"
   ]
  },
  {
   "cell_type": "code",
   "execution_count": null,
   "metadata": {},
   "outputs": [],
   "source": [
    "for file in files:\n",
    "    if (file[-3:] == 'png'):\n",
    "        print(\"file image:\",file)\n",
    "        print(get_objects(file))"
   ]
  },
  {
   "cell_type": "code",
   "execution_count": null,
   "metadata": {},
   "outputs": [],
   "source": []
  }
 ],
 "metadata": {
  "kernelspec": {
   "display_name": "conda_tensorflow_p36",
   "language": "python",
   "name": "conda_tensorflow_p36"
  },
  "language_info": {
   "codemirror_mode": {
    "name": "ipython",
    "version": 3
   },
   "file_extension": ".py",
   "mimetype": "text/x-python",
   "name": "python",
   "nbconvert_exporter": "python",
   "pygments_lexer": "ipython3",
   "version": "3.6.5"
  }
 },
 "nbformat": 4,
 "nbformat_minor": 4
}
